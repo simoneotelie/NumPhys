{
 "cells": [
  {
   "cell_type": "code",
   "execution_count": null,
   "metadata": {},
   "outputs": [],
   "source": [
    "import numpy as np"
   ]
  },
  {
   "cell_type": "code",
   "execution_count": 6,
   "metadata": {},
   "outputs": [],
   "source": [
    "def count(eigenvalues):\n",
    "\n",
    "    w = np.linspace(0, eigenvalues[-1],10000)\n",
    "\n",
    "    \n",
    "    N = np.zeros(len(w))\n",
    "\n",
    "    for i in range(len(w)):\n",
    "        \n",
    "        number = 0\n",
    "        for j in range(len(eigenvalues)):\n",
    "            if w[i] > eigenvalues[j]:\n",
    "                number += 1\n",
    "        N[i] = number\n",
    "            \n",
    "                \n",
    "    return N,w\n",
    "\n",
    "def d_estimate(eigenvalues):\n",
    "    N, w = count(eigenvalues)\n",
    "    deltaN = N - 1/(4*np.pi)*w**2\n",
    "    \n",
    "    d = np.log(deltaN) - np.log(w)\n",
    "\n",
    "    return deltaN,d,w\n"
   ]
  }
 ],
 "metadata": {
  "kernelspec": {
   "display_name": "base",
   "language": "python",
   "name": "python3"
  },
  "language_info": {
   "codemirror_mode": {
    "name": "ipython",
    "version": 3
   },
   "file_extension": ".py",
   "mimetype": "text/x-python",
   "name": "python",
   "nbconvert_exporter": "python",
   "pygments_lexer": "ipython3",
   "version": "3.8.5"
  },
  "orig_nbformat": 4
 },
 "nbformat": 4,
 "nbformat_minor": 2
}
